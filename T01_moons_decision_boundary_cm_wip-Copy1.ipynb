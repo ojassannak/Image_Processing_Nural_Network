{
 "cells": [
  {
   "cell_type": "code",
   "execution_count": 1,
   "metadata": {},
   "outputs": [],
   "source": [
    "#!/usr/bin/env python3\n",
    "# -*- coding: utf-8 -*-"
   ]
  },
  {
   "cell_type": "markdown",
   "metadata": {},
   "source": [
    "# Image Processing with Neural Network\n",
    "## Template 01\n",
    "\n",
    "## Template with helper functions\n",
    "\n",
    "- Moons Dataset\n",
    "- Decision Boundary\n",
    "- Loss curve\n",
    "\n",
    "<img src='../../../images/prasami_color_tutorials_small.png' width='400' alt=\"By Pramod Sharma : pramod.sharma@prasami.com\" align = \"left\"/>"
   ]
  },
  {
   "cell_type": "markdown",
   "metadata": {},
   "source": [
    "## Import Statements"
   ]
  },
  {
   "cell_type": "code",
   "execution_count": 4,
   "metadata": {},
   "outputs": [],
   "source": [
    "###-----------------\n",
    "### Import Libraries\n",
    "###-----------------\n",
    "\n",
    "import numpy as np\n",
    "import pandas as pd\n",
    "import matplotlib.pyplot as plt\n",
    "\n",
    "import seaborn as sns\n",
    "\n",
    "from sklearn import datasets\n",
    "from sklearn.metrics import accuracy_score, confusion_matrix, ConfusionMatrixDisplay\n",
    " \n",
    "#from utils.helper import fn_plot_decision_boundary # this function is from helper.py"
   ]
  },
  {
   "cell_type": "code",
   "execution_count": 5,
   "metadata": {},
   "outputs": [],
   "source": [
    "#print (fn_plot_decision_boundary.__doc__)"
   ]
  },
  {
   "cell_type": "markdown",
   "metadata": {},
   "source": [
    "## Setup Global Parameters"
   ]
  },
  {
   "cell_type": "code",
   "execution_count": 7,
   "metadata": {},
   "outputs": [],
   "source": [
    "###----------------\n",
    "### Some parameters\n",
    "###----------------\n",
    "\n",
    "RANDOM_STATE = 24 # REMEMBER: to remove at the time of promotion to production\n",
    "np.random.seed(RANDOM_STATE)\n",
    "rng = np.random.default_rng(seed = RANDOM_STATE) # Set Random Seed for reproducible  results\n",
    "\n",
    "NOISE = 0.2\n",
    "EPOCHS = 200  # number of epochs\n",
    "ALPHA = 0.1  # learning rate\n",
    "N_SAMPLES = 1000\n",
    "\n",
    "# parameters for Matplotlib\n",
    "params = {'legend.fontsize': 'medium',\n",
    "          'figure.figsize': (15, 6),\n",
    "          'axes.labelsize': 'large',\n",
    "          'axes.titlesize':'large',\n",
    "          'xtick.labelsize':'large',\n",
    "          'ytick.labelsize':'large'\n",
    "         }\n",
    "\n",
    "plt.rcParams.update(params)\n",
    "\n",
    "CMAP = plt.cm.coolwarm\n",
    "plt.style.use('seaborn-v0_8-darkgrid') # plt.style.use('ggplot')"
   ]
  },
  {
   "cell_type": "code",
   "execution_count": 8,
   "metadata": {},
   "outputs": [
    {
     "ename": "SyntaxError",
     "evalue": "invalid syntax (781074821.py, line 37)",
     "output_type": "error",
     "traceback": [
      "\u001b[1;36m  Cell \u001b[1;32mIn[8], line 37\u001b[1;36m\u001b[0m\n\u001b[1;33m    if >=0.5:\u001b[0m\n\u001b[1;37m       ^\u001b[0m\n\u001b[1;31mSyntaxError\u001b[0m\u001b[1;31m:\u001b[0m invalid syntax\n"
     ]
    }
   ],
   "source": [
    "def fn_plot_decision_boundary(predict,X,wts):\n",
    "    \n",
    "    # initialize the figure\n",
    "    fig, ax = plt.subplots(figsize = (8,5));\n",
    "    \n",
    "    # Small increment to create object function surface\n",
    "    dm = 0.01\n",
    "    \n",
    "    # Range of X values (First feature)\n",
    "    x_min, x_max = X[:, 0].min() - 0.5, X[:, 0].max() + 0.5\n",
    "    \n",
    "    # Range of Y values (Second feature)\n",
    "    y_min, y_max = X[:, 1].min() - 0.5, X[:, 1].max() + 0.5\n",
    "    \n",
    "    # Create a grid to evaluate the object function\n",
    "    xx, yy = np.meshgrid(np.arange(x_min, x_max, dm),\n",
    "                         np.arange(y_min, y_max, dm))\n",
    "    \n",
    "    # flatten and stack\n",
    "    # arrays will be stacked along their last axis after being upgraded to at least 2-D \n",
    "    # with 1’s post-pended to the shape (column vectors made out of 1-D arrays)\n",
    "    XX = np.c_[xx.ravel(), yy.ravel()] \n",
    "\n",
    "    # add another column filled with 1 to make it work with the predict function\n",
    "    XX = np.hstack( ( XX, np.ones((XX.shape[0],1)) ) )\n",
    "    \n",
    "    # list to collect predictions\n",
    "    y_pred = []\n",
    "    \n",
    "    # Iterate over rows\n",
    "    for row in (XX):\n",
    "        \n",
    "        ###change for sigmoid function\n",
    "        #--------------------------------\n",
    "        a=predict(row, wts) # this is a float between [0,1]\n",
    "        y_p =0\n",
    "        if >=0.5:\n",
    "            y_p=1\n",
    "\n",
    "        y_p = predict(row, wts)\n",
    "        y_pred.append(y_p)\n",
    "        #--------------------------------------------\n",
    "    Z = np.array(y_pred).reshape(xx.shape)\n",
    "\n",
    "    ax.contourf(xx, yy, Z, alpha=0.6, cmap=plt.cm.Paired)\n",
    "    ax.scatter(X[:, 0], X[:, 1], c=X[:, 2],\n",
    "                                  s=20, edgecolor='k', cmap=plt.cm.bwr)\n",
    "    ax.set_title('Decision Boundary')\n",
    "\n",
    "    ax.set_xlabel('A')\n",
    "    ax.set_ylabel('B')\n",
    "    plt.show()"
   ]
  },
  {
   "cell_type": "markdown",
   "metadata": {},
   "source": [
    "## Generate Data Set\n",
    "<div style=\"font-family: Arial; font-size:1.2em;color:black;\">\n",
    "Sklearn's dataset generator is good source of data for learning. To keep the example simple, I'll suggest  <a href=\"http://scikit-learn.org/stable/modules/generated/sklearn.datasets.make_moons.html\">make_moon</a> dataset generator.\n",
    "</div>"
   ]
  },
  {
   "cell_type": "code",
   "execution_count": null,
   "metadata": {},
   "outputs": [],
   "source": [
    "X,y=datasets.make_moons(n_samples=N_SAMPLES,\n",
    "                        noise=NOISE,\n",
    "                        shuffle=True,\n",
    "                        random_state= RANDOM_STATE)\n",
    "\n",
    "X[:5],y[:5]"
   ]
  },
  {
   "cell_type": "code",
   "execution_count": null,
   "metadata": {},
   "outputs": [],
   "source": [
    "data_df= pd.DataFrame(X,columns=['A','B'])\n",
    "data_df['target']=y\n",
    "data_df.head()"
   ]
  },
  {
   "cell_type": "code",
   "execution_count": null,
   "metadata": {},
   "outputs": [],
   "source": [
    "data_df.info()"
   ]
  },
  {
   "cell_type": "code",
   "execution_count": null,
   "metadata": {},
   "outputs": [],
   "source": [
    "data_df.describe()"
   ]
  },
  {
   "cell_type": "code",
   "execution_count": null,
   "metadata": {},
   "outputs": [],
   "source": [
    "data_df.target.unique()"
   ]
  },
  {
   "cell_type": "code",
   "execution_count": null,
   "metadata": {},
   "outputs": [],
   "source": [
    "fig, ax = plt.subplots() # Instantiate\n",
    "    \n",
    "data_df['target'].value_counts().plot(ax=ax, kind='bar');"
   ]
  },
  {
   "cell_type": "code",
   "execution_count": null,
   "metadata": {},
   "outputs": [],
   "source": [
    "ax = sns.scatterplot(data=data_df, \n",
    "                     x='A', y='B', \n",
    "                     hue='target');"
   ]
  },
  {
   "cell_type": "code",
   "execution_count": null,
   "metadata": {},
   "outputs": [],
   "source": []
  },
  {
   "cell_type": "code",
   "execution_count": null,
   "metadata": {},
   "outputs": [],
   "source": [
    "X, y = datasets.make_moons(n_samples=N_SAMPLES, \n",
    "                           shuffle=True, \n",
    "                           noise=NOISE, \n",
    "                           random_state=RANDOM_STATE)\n",
    "X[:5], y[:5]"
   ]
  },
  {
   "cell_type": "markdown",
   "metadata": {},
   "source": [
    "## Visualization\n",
    "<p style=\"font-family: Arial; font-size:1.2em;color:black;\">\n",
    "DataFrames are easier to visualize\n",
    "</p>"
   ]
  },
  {
   "cell_type": "code",
   "execution_count": null,
   "metadata": {},
   "outputs": [],
   "source": [
    "data_df = pd.DataFrame(X, columns = ['A', 'B'])\n",
    "\n",
    "data_df['target'] = y\n",
    "\n",
    "data_df.head()"
   ]
  },
  {
   "cell_type": "code",
   "execution_count": null,
   "metadata": {},
   "outputs": [],
   "source": [
    "data_df.info()"
   ]
  },
  {
   "cell_type": "code",
   "execution_count": null,
   "metadata": {},
   "outputs": [],
   "source": [
    "data_df.describe() # Generate descriptive statistic"
   ]
  },
  {
   "cell_type": "code",
   "execution_count": null,
   "metadata": {},
   "outputs": [],
   "source": [
    "# what labels are present?\n",
    "data_df.target.unique()"
   ]
  },
  {
   "cell_type": "markdown",
   "metadata": {},
   "source": [
    "### Different ways of plotting data"
   ]
  },
  {
   "cell_type": "code",
   "execution_count": null,
   "metadata": {},
   "outputs": [],
   "source": [
    "data_train = data_df[:900].to_numpy()\n",
    "data_test = data_df[900:].to_numpy()\n",
    "data_train.shape,data_test.shape"
   ]
  },
  {
   "cell_type": "markdown",
   "metadata": {},
   "source": [
    "<h4>Perceptron</h4>"
   ]
  },
  {
   "cell_type": "code",
   "execution_count": null,
   "metadata": {},
   "outputs": [],
   "source": [
    "## Perceptron\n",
    "# z = w0+x1*w1+x2*w2\n",
    "# z>= 0 a = 1\n"
   ]
  },
  {
   "cell_type": "code",
   "execution_count": null,
   "metadata": {},
   "outputs": [],
   "source": [
    "def fn_sigmoid(z):\n",
    "    sig_z = 1.0 / (1 + np.exp(-z))\n",
    "    return sig_z"
   ]
  },
  {
   "cell_type": "code",
   "execution_count": null,
   "metadata": {},
   "outputs": [],
   "source": [
    "def predict(row,wts):\n",
    "    z = wts[0]\n",
    "    for i in range (len(row)-1):\n",
    "        z+=wts[i + 1] * row[i]\n",
    "    return fn_sigmoid(z)\n",
    "   # return 1 if z>=0 else 0"
   ]
  },
  {
   "cell_type": "code",
   "execution_count": null,
   "metadata": {},
   "outputs": [],
   "source": [
    "def train_weights(train,alpha,n_epochs):\n",
    "    errors =[] #store all errors\n",
    "    weights =rng.random(train.shape[1]) # weights initialized at random\n",
    "    m = train.shape[0] #number of samples\n",
    "    for epoch in np.arange(n_epochs): # looping over all epochs\n",
    "        sum_error = 0.0\n",
    "\n",
    "        for row in train:\n",
    "            prediction= predict(row,weights)\n",
    "\n",
    "            dz= prediction - row[-1]#(a-y)\n",
    "            sum_error+=(prediction - row[-1])**2 # mean square error\n",
    "            #cross entropy loss = y.log(a)\n",
    "            #sum_error +=-row[-1]*log(prediction)\n",
    "            weights[0]=weights[0]-alpha*dz/m # update w0\n",
    "\n",
    "            for i in range (len(row)-1):\n",
    "                weights[i+1]+=-alpha*dz*row[i]/m # update w1 and w2\n",
    "\n",
    "        errors.append(sum_error/m)\n",
    "\n",
    "    return weights,errors"
   ]
  },
  {
   "cell_type": "code",
   "execution_count": null,
   "metadata": {},
   "outputs": [],
   "source": [
    "weights,errors = train_weights(data_train,ALPHA,EPOCHS)"
   ]
  },
  {
   "cell_type": "code",
   "execution_count": null,
   "metadata": {},
   "outputs": [],
   "source": [
    "#weights,error=train_weights(data_train,ALPHA,EPOCHS)"
   ]
  },
  {
   "cell_type": "code",
   "execution_count": null,
   "metadata": {},
   "outputs": [],
   "source": [
    "predictions =[]\n",
    "for row in data_train:\n",
    "         prediction = predict(row , weights)\n",
    "         predictions.append(predictions)\n",
    "    \n",
    "accuracy_score(y_pred = predictions, y_true=data_train[:,-1])\n",
    "\n",
    "\n"
   ]
  },
  {
   "cell_type": "code",
   "execution_count": null,
   "metadata": {},
   "outputs": [],
   "source": [
    "fn_plot_decision_boundary(predict,data_train,weights)"
   ]
  },
  {
   "cell_type": "code",
   "execution_count": null,
   "metadata": {},
   "outputs": [],
   "source": [
    "cm = confusion_matrix(y_true=data_test[:,-1],y_pred=predictions)\n",
    "cm"
   ]
  },
  {
   "cell_type": "code",
   "execution_count": null,
   "metadata": {},
   "outputs": [],
   "source": [
    "disp = ConfusionMatrixDisplay(confusion_matrix=cm, display_labels = [0,1])\n",
    "\n",
    "disp.plot(cmap='Blues',colorbar=False)\n",
    "plt.grid()\n",
    "plt.show()"
   ]
  },
  {
   "cell_type": "code",
   "execution_count": null,
   "metadata": {},
   "outputs": [],
   "source": [
    "predictions =[] # to store %predictons\n",
    "for row in data_test: # iterate over rows\n",
    "    prediction = predict(row , weights) # make predictions\n",
    "    pred = 0\n",
    "    if(prediction >= 0.5):\n",
    "        pred = 1\n",
    "    predictions.append(pred)  # collect in a list\n",
    "\n",
    "#calculate accuracy\n",
    "print(f'Test Accuracy:{accuracy_score(y_pred = predictions, y_true=data_test[:,-1])}')\n",
    "\n",
    "#calculate confusion\n",
    "cm= confusion_matrix(y_true=data_test[:,-1],y_pred=predictions)\n",
    "\n",
    "disp = ConfusionMatrixDisplay(confusion_matrix=cm, display_labels = [0,1])\n",
    "\n",
    "disp.plot(cmap='Blues',colorbar=False)\n",
    "plt.grid()\n",
    "plt.show()\n"
   ]
  },
  {
   "cell_type": "code",
   "execution_count": null,
   "metadata": {},
   "outputs": [],
   "source": [
    "fn_plot_decision_boundary(predict,data_train,weights)"
   ]
  },
  {
   "cell_type": "code",
   "execution_count": null,
   "metadata": {},
   "outputs": [],
   "source": []
  },
  {
   "cell_type": "code",
   "execution_count": null,
   "metadata": {},
   "outputs": [],
   "source": []
  }
 ],
 "metadata": {
  "kernelspec": {
   "display_name": "Python 3 (ipykernel)",
   "language": "python",
   "name": "python3"
  },
  "language_info": {
   "codemirror_mode": {
    "name": "ipython",
    "version": 3
   },
   "file_extension": ".py",
   "mimetype": "text/x-python",
   "name": "python",
   "nbconvert_exporter": "python",
   "pygments_lexer": "ipython3",
   "version": "3.12.4"
  }
 },
 "nbformat": 4,
 "nbformat_minor": 4
}
